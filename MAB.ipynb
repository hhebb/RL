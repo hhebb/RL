{
 "cells": [
  {
   "attachments": {},
   "cell_type": "markdown",
   "metadata": {},
   "source": [
    "* mab 는 state 제외된 RL 문제\n",
    "* 푸는 방법은 많은데 보통 q 벡터 업데이트 하는 방식으로 많이 진행\n",
    "* 업데이트 방식이 기초 RL 과 거의 동일함"
   ]
  },
  {
   "cell_type": "code",
   "execution_count": 110,
   "metadata": {},
   "outputs": [
    {
     "name": "stdout",
     "output_type": "stream",
     "text": [
      "Total reward: 4789.373572626772\n"
     ]
    },
    {
     "name": "stderr",
     "output_type": "stream",
     "text": [
      "C:\\Users\\HEBB\\AppData\\Local\\Temp/ipykernel_27900/3702190237.py:24: RuntimeWarning: divide by zero encountered in log\n",
      "  ucb_estimates = self.q_estimates + c * np.sqrt(np.log(np.sum(self.action_count)) / self.action_count)\n",
      "C:\\Users\\HEBB\\AppData\\Local\\Temp/ipykernel_27900/3702190237.py:24: RuntimeWarning: invalid value encountered in sqrt\n",
      "  ucb_estimates = self.q_estimates + c * np.sqrt(np.log(np.sum(self.action_count)) / self.action_count)\n",
      "C:\\Users\\HEBB\\AppData\\Local\\Temp/ipykernel_27900/3702190237.py:24: RuntimeWarning: invalid value encountered in true_divide\n",
      "  ucb_estimates = self.q_estimates + c * np.sqrt(np.log(np.sum(self.action_count)) / self.action_count)\n",
      "C:\\Users\\HEBB\\AppData\\Local\\Temp/ipykernel_27900/3702190237.py:24: RuntimeWarning: divide by zero encountered in true_divide\n",
      "  ucb_estimates = self.q_estimates + c * np.sqrt(np.log(np.sum(self.action_count)) / self.action_count)\n"
     ]
    }
   ],
   "source": [
    "import numpy as np\n",
    "\n",
    "class MAB:\n",
    "    def __init__(self, n_arms):\n",
    "        self.n_arms = n_arms\n",
    "        self.q_star = np.random.normal(0, 1, n_arms) # q*(a) 일종의 보상. 확률적으로 바꿀 수도 있음.\n",
    "        self.action_count = np.zeros(n_arms) # N(a)\n",
    "        self.q_estimates = np.zeros(n_arms) # Q(a)\n",
    "\n",
    "    def pull(self, action):\n",
    "        reward = np.random.normal(self.q_star[action], 1)\n",
    "        self.action_count[action] += 1\n",
    "        # q learning 업데이트 식과 유사. 정규화항은 alpha 값과 유사\n",
    "        self.q_estimates[action] += (reward - self.q_estimates[action]) / self.action_count[action]\n",
    "        return reward\n",
    "\n",
    "    # 둘 중 하나.\n",
    "    # epsilon_greedy vs ucb\n",
    "    def epsilon_greedy(self, epsilon):\n",
    "        if np.random.rand() < epsilon:\n",
    "            action = np.random.randint(self.n_arms)\n",
    "        else:\n",
    "            action = np.argmax(self.q_estimates)\n",
    "        return action\n",
    "\n",
    "    def ucb(self, c):\n",
    "        ucb_estimates = self.q_estimates + c * np.sqrt(np.log(np.sum(self.action_count)) / self.action_count)\n",
    "        action = np.argmax(ucb_estimates)\n",
    "        return action\n",
    "\n",
    "# test the MAB class\n",
    "mab = MAB(10)\n",
    "num_steps = 10000\n",
    "total_reward = 0\n",
    "\n",
    "for i in range(num_steps):\n",
    "    # action = mab.epsilon_greedy(0.1) # or mab.ucb(2)\n",
    "    action = mab.ucb(2)\n",
    "    reward = mab.pull(action)\n",
    "    total_reward += reward\n",
    "\n",
    "print('Total reward:', total_reward)\n"
   ]
  },
  {
   "cell_type": "code",
   "execution_count": 111,
   "metadata": {},
   "outputs": [
    {
     "data": {
      "text/plain": [
       "array([-1.60151656, -2.06636753, -0.54086025, -1.23370859,  0.51244845,\n",
       "       -0.65708575, -0.26845323, -0.07360806, -0.2359048 , -0.78621137])"
      ]
     },
     "execution_count": 111,
     "metadata": {},
     "output_type": "execute_result"
    }
   ],
   "source": [
    "# real reward\n",
    "mab.q_star"
   ]
  },
  {
   "cell_type": "code",
   "execution_count": 112,
   "metadata": {},
   "outputs": [
    {
     "data": {
      "text/plain": [
       "array([-1.79355076, -2.08394222, -0.46405708, -1.47456643,  0.50801201,\n",
       "       -0.64615912, -0.19272391, -0.02959981, -0.17589417, -0.76903622])"
      ]
     },
     "execution_count": 112,
     "metadata": {},
     "output_type": "execute_result"
    }
   ],
   "source": [
    "# 가치 추정\n",
    "mab.q_estimates"
   ]
  },
  {
   "cell_type": "code",
   "execution_count": 113,
   "metadata": {},
   "outputs": [
    {
     "data": {
      "text/plain": [
       "array([7.000e+00, 7.000e+00, 3.600e+01, 9.000e+00, 9.658e+03, 2.500e+01,\n",
       "       6.600e+01, 1.040e+02, 6.700e+01, 2.100e+01])"
      ]
     },
     "execution_count": 113,
     "metadata": {},
     "output_type": "execute_result"
    }
   ],
   "source": [
    "mab.action_count"
   ]
  }
 ],
 "metadata": {
  "kernelspec": {
   "display_name": "Python 3",
   "language": "python",
   "name": "python3"
  },
  "language_info": {
   "codemirror_mode": {
    "name": "ipython",
    "version": 3
   },
   "file_extension": ".py",
   "mimetype": "text/x-python",
   "name": "python",
   "nbconvert_exporter": "python",
   "pygments_lexer": "ipython3",
   "version": "3.9.7"
  },
  "orig_nbformat": 4
 },
 "nbformat": 4,
 "nbformat_minor": 2
}
