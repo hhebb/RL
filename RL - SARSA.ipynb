{
 "cells": [
  {
   "attachments": {},
   "cell_type": "markdown",
   "metadata": {},
   "source": [
    "# SARSA\n",
    "---\n",
    "> Temporal Differential Prediction + Epsiolon - Greedy update\n",
    "\n",
    "* D.P 는 환경에 대한 확실한 확률정보를 알고있는 모델을 푸는 과정\n",
    "* 환경에 불확실성이 포함된 모델을 푸는것이 RL 알고리즘\n",
    "* 주로 sampling 기법으로 불확실성을 예측한다.\n",
    "    * 그래서 업데이트 식을 보면 평균을 구하지 않고 샘플 하나에 대해서만 계산한다\n",
    "* SARSA 알고리즘은 Temporal Difference 예측 샘플링 기법을 사용함.\n",
    "* 한꺼번에 모두 업데이트하는 D.P 와 다르게 한 step 씩 계산한다.\n",
    "* Bellman Equation 을 변형하여 sampling 으로 얻은 data 를 적용한다.\n",
    "* Policy Iteration + Greedy action select --> On - Policy\n",
    "* bootstrap 알고리즘\n",
    "    * M.C 와 다르게 업데이트 식에 이전 q (추정) 가 들어감 -> 추정이 쌓임\n",
    "    * M.C 는 실 관측 reward-to-go 값으로 업데이트, sarsa 는 현재 reward 만 신호로 사용\n",
    "    * bootstrap 이 self-consistency equation 으로 볼 수도 있음\n",
    "* 역시 model free 하기 위해 V 대신 Q 를 사용\n",
    "    * V, Q 를 학습하는 모든 RL 알고리즘에서 명심할 것 - 가치라는 것 자체에 추정의 의미가 들어감.\n",
    "    * DP 는 추정이 아니라 true 인데, 샘플링한다는 점에서 추정이 됨.\n",
    "    * 근데 만약 신경망 학습을 한다면 추정이 한 단계 더 (근사) 들어가 더욱 불안정해질 가능성이 있음.\n",
    "    * deep sarsa, dqn 등이 해당됨\n",
    "* value based 알고리즘이므로 action 을 만드는 policy 는 implicit\n",
    "* 하지만 action 을 만드는 policy 와 상호작용하는 policy 가 같아서 문제가 생김 (on-policy)\n",
    "    * 식의 미묘한 차이를 알아차리기 어려움\n",
    "    * 같은 규칙 (정책) 에 의해 샘플링된 action 이 Q 를 업데이트하는 데 동일한 규칙을 사용한다"
   ]
  },
  {
   "cell_type": "code",
   "execution_count": 1,
   "metadata": {},
   "outputs": [],
   "source": [
    "import gym\n",
    "import numpy as np\n",
    "import random\n",
    "from gym.envs.registration import register"
   ]
  },
  {
   "cell_type": "code",
   "execution_count": 2,
   "metadata": {},
   "outputs": [],
   "source": [
    "'''\n",
    "환경셋팅 한 후에 환경을 추가등록한다.\n",
    "'''\n",
    "\n",
    "register(\n",
    "    id='FrozenLake-v1',\n",
    "    entry_point=\"gym.envs.toy_text:FrozenLakeEnv\",\n",
    "    kwargs={'map_name':'4x4','is_slippery':False})"
   ]
  },
  {
   "cell_type": "code",
   "execution_count": 3,
   "metadata": {},
   "outputs": [],
   "source": [
    "'''\n",
    "환경 생성\n",
    "'''\n",
    "env = gym.make('FrozenLake-v1')"
   ]
  },
  {
   "cell_type": "code",
   "execution_count": 183,
   "metadata": {},
   "outputs": [],
   "source": [
    "q_table = np.zeros([env.action_space.n, env.observation_space.n], dtype = np.float16)\n",
    "gamma = .9\n",
    "epsilon = 1\n",
    "episode = 0\n",
    "max_episode = 1000\n",
    "\n",
    "state = env.reset()\n",
    "action = env.action_space.sample()\n",
    "step = 0\n",
    "\n",
    "while(episode < max_episode):\n",
    "    \n",
    "    #env.render()\n",
    "    step += 1\n",
    "    state_next, reward, done, _ = env.step(action)\n",
    "    #reward -= step*.01\n",
    "        \n",
    "    if(random.random() > epsilon):\n",
    "        action_next = np.argmax(q_table[ : , state_next])\n",
    "    else:\n",
    "        action_next = env.action_space.sample()\n",
    "    \n",
    "    # SARSA 업데이트\n",
    "    q_table[action, state] += gamma * (reward + q_table[action_next, state_next] - q_table[action, state])\n",
    "    \n",
    "    state_old = state\n",
    "    action_old = action\n",
    "    \n",
    "    state = state_next\n",
    "    action = action_next\n",
    "    \n",
    "    if(done):\n",
    "        if(reward):\n",
    "            if(epsilon > .1):\n",
    "                epsilon = 1 / (episode/(max_episode/10) + 1)\n",
    "            else:\n",
    "                epsilon = .1\n",
    "        else:\n",
    "            q_table[action_old, state_old] += gamma * (-1 + q_table[action, state] - q_table[action_old, state_old])\n",
    "        \n",
    "        step = 0\n",
    "        episode += 1\n",
    "        env.reset()\n",
    "env.close()"
   ]
  },
  {
   "cell_type": "code",
   "execution_count": 184,
   "metadata": {},
   "outputs": [
    {
     "data": {
      "text/plain": [
       "array([[-5.293 , -5.27  , -4.883 , -2.89  , -4.203 , -5.04  , -5.84  ,\n",
       "        -4.87  , -5.832 , -5.2   , -5.34  , -4.418 , -3.5   , -4.926 ,\n",
       "        -4.266 , -1.952 ],\n",
       "       [-1.757 , -4.965 , -4.613 , -5.707 , -2.773 , -5.504 , -0.5864,\n",
       "        -2.182 , -5.875 , -0.916 , -0.771 , -4.723 , -3.158 , -6.043 ,\n",
       "        -3.59  , -5.55  ],\n",
       "       [-5.17  , -5.492 , -4.688 , -5.598 , -6.21  , -5.293 , -5.703 ,\n",
       "        -5.957 , -1.913 , -4.723 , -3.963 , -5.426 , -5.074 , -1.053 ,\n",
       "        -0.965 , -4.555 ],\n",
       "       [-4.07  , -5.285 , -4.63  , -5.18  , -6.184 , -4.645 , -5.246 ,\n",
       "        -5.082 , -5.332 , -5.55  , -4.047 , -1.748 , -5.062 , -5.19  ,\n",
       "        -4.84  , -5.09  ]], dtype=float16)"
      ]
     },
     "execution_count": 184,
     "metadata": {},
     "output_type": "execute_result"
    }
   ],
   "source": [
    "q_table"
   ]
  },
  {
   "cell_type": "code",
   "execution_count": 185,
   "metadata": {},
   "outputs": [
    {
     "name": "stdout",
     "output_type": "stream",
     "text": [
      "\n",
      "\u001b[41mS\u001b[0mFFF\n",
      "FHFH\n",
      "FFFH\n",
      "HFFG\n",
      "  (Down)\n",
      "SFFF\n",
      "\u001b[41mF\u001b[0mHFH\n",
      "FFFH\n",
      "HFFG\n",
      "  (Down)\n",
      "SFFF\n",
      "FHFH\n",
      "\u001b[41mF\u001b[0mFFH\n",
      "HFFG\n",
      "  (Right)\n",
      "SFFF\n",
      "FHFH\n",
      "F\u001b[41mF\u001b[0mFH\n",
      "HFFG\n",
      "  (Down)\n",
      "SFFF\n",
      "FHFH\n",
      "FFFH\n",
      "H\u001b[41mF\u001b[0mFG\n",
      "  (Right)\n",
      "SFFF\n",
      "FHFH\n",
      "FFFH\n",
      "HF\u001b[41mF\u001b[0mG\n",
      "  (Right)\n",
      "SFFF\n",
      "FHFH\n",
      "FFFH\n",
      "HFF\u001b[41mG\u001b[0m\n"
     ]
    }
   ],
   "source": [
    "s = env.reset()\n",
    "\n",
    "step = 1\n",
    "while(True):\n",
    "    #env.render()\n",
    "    a = np.argmax(q_table[ : , s])\n",
    "    s,r,d,_ = env.step(a)\n",
    "    if(d):\n",
    "        env.render()\n",
    "        break\n",
    "env.close()"
   ]
  }
 ],
 "metadata": {
  "kernelspec": {
   "display_name": "Python 3",
   "language": "python",
   "name": "python3"
  },
  "language_info": {
   "codemirror_mode": {
    "name": "ipython",
    "version": 3
   },
   "file_extension": ".py",
   "mimetype": "text/x-python",
   "name": "python",
   "nbconvert_exporter": "python",
   "pygments_lexer": "ipython3",
   "version": "3.6.7"
  }
 },
 "nbformat": 4,
 "nbformat_minor": 2
}
