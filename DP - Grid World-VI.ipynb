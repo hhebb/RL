{
 "cells": [
  {
   "attachments": {},
   "cell_type": "markdown",
   "metadata": {},
   "source": [
    "# Dynamic Programming\n",
    "---\n",
    "> 동적계획법 실습\n",
    "1. Policy Iteration\n",
    "2. Value Iteration\n",
    "\n",
    "- D.P 는 공통적으로 Model-based 방법이다"
   ]
  },
  {
   "attachments": {},
   "cell_type": "markdown",
   "metadata": {},
   "source": [
    "### 2.Value Iteration\n",
    "---\n",
    "\n",
    "* Off - Policy method\n",
    "* P.I 와 다르게 평가만 한다\n",
    "* Bellman Optimality Equation 사용하므로 기댓값 계산을 하지않는다.\n",
    "    * 즉 value 에 매우 더 implicit 한 policy 가 들어가 있음\n",
    "* 그 equation 을 iteration 하게 만들어 알고리즘을 만듬\n",
    "* 대신 Greedy 알고리즘을 사용하는데, 반복하면 P.I 와 같은 Value table 값으로 수렴하게 된다.\n",
    "- Value 와 Policy 를 따로 두지 않는다.\n",
    "* D.P 알고리즘은 고정점 정리에 의해 수렴이 증명이 된 듯\n",
    "* 모든 max 를 취하는 알고리즘의 문제 -> 과대평가"
   ]
  },
  {
   "cell_type": "code",
   "execution_count": 31,
   "metadata": {},
   "outputs": [],
   "source": [
    "class Value_Iteration:\n",
    "    \n",
    "    def __init__(self):\n",
    "        self.n_map = 4\n",
    "        self.n_action = 4\n",
    "        self.gamma = 0.9\n",
    "        self.grid_world = np.array([0,0,0,0,\n",
    "                     0,-1,0,-1,\n",
    "                     0,0,0,-1,\n",
    "                    -1,0,0,1]).reshape(self.n_map,-1)\n",
    "        self.value = np.zeros_like(self.grid_world)\n",
    "    \n",
    "    \n",
    "    '''\n",
    "    Evaluation\n",
    "    '''\n",
    "    def Evaluation(self):\n",
    "        v_tmp = np.zeros_like(self.grid_world, dtype=np.float16)\n",
    "        for row in range(self.n_map):\n",
    "            for col in range(self.n_map):\n",
    "                \n",
    "                max_val = -9999\n",
    "                for a in range(self.n_action):\n",
    "                    reward = self.get_reward(a, row, col)\n",
    "                    \n",
    "                    # V.I 계산식 - bellman optimality equation.\n",
    "                    next_state = self.get_state(a, row, col)\n",
    "                    max_tmp = reward + self.gamma * self.value[next_state[0], next_state[1]]\n",
    "                    if(max_tmp > max_val):\n",
    "                        max_val = max_tmp\n",
    "                        \n",
    "                v_tmp[row, col] = max_val\n",
    "        \n",
    "        v_tmp[3,3] = 0\n",
    "        self.value = v_tmp\n",
    "        \n",
    "\n",
    "    '''\n",
    "    R(s,a)\n",
    "    P(s'|s,a)\n",
    "    \n",
    "    0  1  2  3\n",
    "    상 하 좌 우\n",
    "    '''\n",
    "    def get_reward(self, a, r, c):\n",
    "        \n",
    "        if(a == 0 and r > 0):\n",
    "            r -= 1\n",
    "\n",
    "        elif(a == 1 and r < 3):\n",
    "            r += 1\n",
    "\n",
    "        elif(a == 2 and c > 0):\n",
    "            c -= 1\n",
    "\n",
    "        elif(a == 3 and c < 3):\n",
    "            c += 1\n",
    "\n",
    "        # 맵 넘어가면 부적 보상\n",
    "        else:\n",
    "            return -100\n",
    "\n",
    "        reward = self.grid_world[r, c]\n",
    "\n",
    "        return reward\n",
    "\n",
    "    \n",
    "    '''\n",
    "    next state\n",
    "    '''\n",
    "    def get_state(self, a, r, c):\n",
    "        \n",
    "        if(a == 0 and r > 0):\n",
    "            r -= 1\n",
    "\n",
    "        elif(a == 1 and r < 3):\n",
    "            r += 1\n",
    "\n",
    "        elif(a == 2 and c > 0):\n",
    "            c -= 1\n",
    "\n",
    "        elif(a == 3 and c < 3):\n",
    "            c += 1\n",
    "            \n",
    "        return r, c"
   ]
  },
  {
   "cell_type": "code",
   "execution_count": 32,
   "metadata": {},
   "outputs": [],
   "source": [
    "v_i = Value_Iteration()"
   ]
  },
  {
   "cell_type": "code",
   "execution_count": 41,
   "metadata": {},
   "outputs": [
    {
     "name": "stdout",
     "output_type": "stream",
     "text": [
      "[[ 0  0  0  0]\n",
      " [ 0 -1  0 -1]\n",
      " [ 0  0  0 -1]\n",
      " [-1  0  0  1]]\n",
      "[[0.591  0.6562 0.729  0.6562]\n",
      " [0.6562 0.729  0.81   0.729 ]\n",
      " [0.729  0.81   0.9    1.    ]\n",
      " [0.81   0.9    1.     0.    ]]\n"
     ]
    }
   ],
   "source": [
    "for i in range(10):\n",
    "    v_i.Evaluation()\n",
    "\n",
    "print(v_i.grid_world)\n",
    "print(v_i.value)"
   ]
  }
 ],
 "metadata": {
  "kernelspec": {
   "display_name": "Python 3",
   "language": "python",
   "name": "python3"
  },
  "language_info": {
   "codemirror_mode": {
    "name": "ipython",
    "version": 3
   },
   "file_extension": ".py",
   "mimetype": "text/x-python",
   "name": "python",
   "nbconvert_exporter": "python",
   "pygments_lexer": "ipython3",
   "version": "3.6.8"
  }
 },
 "nbformat": 4,
 "nbformat_minor": 2
}
